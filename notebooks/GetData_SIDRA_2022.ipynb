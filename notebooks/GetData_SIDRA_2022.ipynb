{
 "cells": [
  {
   "cell_type": "markdown",
   "metadata": {},
   "source": [
    "### Import libraries"
   ]
  },
  {
   "cell_type": "code",
   "execution_count": 1,
   "metadata": {},
   "outputs": [],
   "source": [
    "import requests\n",
    "import ssl\n",
    "import pandas as pd\n",
    "import numpy as np\n",
    "import os"
   ]
  },
  {
   "cell_type": "markdown",
   "metadata": {},
   "source": [
    "### Fetch data from the API | Census 2022\n"
   ]
  },
  {
   "cell_type": "code",
   "execution_count": 3,
   "metadata": {},
   "outputs": [],
   "source": [
    "class TLSAdapter(requests.adapters.HTTPAdapter):\n",
    "    def init_poolmanager(self, *args, **kwargs):\n",
    "        ctx = ssl.create_default_context()\n",
    "        ctx.set_ciphers(\"DEFAULT@SECLEVEL=1\")\n",
    "        ctx.options |= 0x4   # <-- the key part here, OP_LEGACY_SERVER_CONNECT\n",
    "        kwargs[\"ssl_context\"] = ctx\n",
    "        return super(TLSAdapter, self).init_poolmanager(*args, **kwargs)\n",
    "\n",
    "url = 'https://servicodados.ibge.gov.br/api/v3/agregados/4712/periodos/2022/variaveis/382?localidades=N6[all]'\n",
    "\n",
    "with requests.session() as s:\n",
    "    s.mount(\"https://\", TLSAdapter())\n",
    "    s.get(url).json()\n",
    "    response = s.get(url)"
   ]
  },
  {
   "cell_type": "markdown",
   "metadata": {},
   "source": [
    "### Ensure the request was successful"
   ]
  },
  {
   "cell_type": "code",
   "execution_count": 4,
   "metadata": {},
   "outputs": [
    {
     "name": "stdout",
     "output_type": "stream",
     "text": [
      "Successful request!\n"
     ]
    }
   ],
   "source": [
    "if response.status_code == 200:\n",
    "    data = response.json()\n",
    "    print(\"Successful request!\")\n",
    "else:\n",
    "    print(f\"Request failed with status code {response.status_code}\")"
   ]
  },
  {
   "cell_type": "markdown",
   "metadata": {},
   "source": [
    "### Cleanning and transforming the data"
   ]
  },
  {
   "cell_type": "code",
   "execution_count": 10,
   "metadata": {},
   "outputs": [],
   "source": [
    "data = response.json()\n",
    "\n",
    "# Flatten data\n",
    "flattened_data = []\n",
    "for item in data[0]['resultados'][0]['series']:\n",
    "    id = item['localidade']['id']\n",
    "    name = item['localidade']['nome']\n",
    "    population = item['serie']['2022']\n",
    "    flattened_data.append({'id': id, 'name': name, 'population': population})\n",
    "\n",
    "# Create DataFrame\n",
    "df = pd.DataFrame(flattened_data)\n",
    "df[['city', 'state']] = df['name'].str.split(' - ', expand=True)\n",
    "\n",
    "# Convert the population column to integers\n",
    "df['population'] = df['population'].astype(int)\n",
    "\n",
    "# Add the 'year' column\n",
    "df['year'] = 2022\n",
    "\n",
    "# Drop the 'name' column and reorder columns\n",
    "df = df[['id', 'year', 'population', 'city', 'state']]\n",
    "\n",
    "# Load existing data from CSV\n",
    "csv_path = 'C:\\\\Users\\\\jlfen\\\\OneDrive\\\\Documentos\\\\JoaoKasten\\\\005_applied_projects\\\\project.censo-dataviz\\\\src\\\\data\\\\census_data.csv'\n",
    "df_existing = pd.read_csv(csv_path)\n",
    "\n",
    "# Combine new and existing data\n",
    "df_combined = pd.concat([df_existing, df], ignore_index=True)\n",
    "\n",
    "# Remove duplicates based on 'id' and 'year' columns\n",
    "df_combined.drop_duplicates(subset=['id', 'year'], inplace=True)\n",
    "\n",
    "# Save the combined DataFrame back to the CSV\n",
    "df_combined.to_csv(csv_path, index=False, encoding='utf-8-sig')"
   ]
  },
  {
   "cell_type": "code",
   "execution_count": 11,
   "metadata": {},
   "outputs": [
    {
     "name": "stdout",
     "output_type": "stream",
     "text": [
      "           id  year  population                   city state\n",
      "0     1100015  2022       21441  Alta Floresta D'Oeste    RO\n",
      "1     1100023  2022       96152              Ariquemes    RO\n",
      "2     1100031  2022        5363                 Cabixi    RO\n",
      "3     1100049  2022       86502                 Cacoal    RO\n",
      "4     1100056  2022       15798             Cerejeiras    RO\n",
      "...       ...   ...         ...                    ...   ...\n",
      "5565  5222005  2022       14889             Vianópolis    GO\n",
      "5566  5222054  2022        8665         Vicentinópolis    GO\n",
      "5567  5222203  2022        4181               Vila Boa    GO\n",
      "5568  5222302  2022        5808          Vila Propício    GO\n",
      "5569  5300108  2022     2792551               Brasília    DF\n",
      "\n",
      "[5570 rows x 5 columns]\n"
     ]
    }
   ],
   "source": [
    "print(df)"
   ]
  }
 ],
 "metadata": {
  "kernelspec": {
   "display_name": "base",
   "language": "python",
   "name": "python3"
  },
  "language_info": {
   "codemirror_mode": {
    "name": "ipython",
    "version": 3
   },
   "file_extension": ".py",
   "mimetype": "text/x-python",
   "name": "python",
   "nbconvert_exporter": "python",
   "pygments_lexer": "ipython3",
   "version": "3.10.12"
  },
  "orig_nbformat": 4
 },
 "nbformat": 4,
 "nbformat_minor": 2
}
