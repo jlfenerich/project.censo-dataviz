{
 "cells": [
  {
   "cell_type": "markdown",
   "metadata": {},
   "source": [
    "### Import libraries"
   ]
  },
  {
   "cell_type": "code",
   "execution_count": 26,
   "metadata": {},
   "outputs": [],
   "source": [
    "import requests\n",
    "import pandas as pd"
   ]
  },
  {
   "cell_type": "markdown",
   "metadata": {},
   "source": [
    "### Fetch data from the API | Census 2022\n"
   ]
  },
  {
   "cell_type": "code",
   "execution_count": 27,
   "metadata": {},
   "outputs": [],
   "source": [
    "url = 'https://servicodados.ibge.gov.br/api/v3/agregados/4712/periodos/2022/variaveis/382?localidades=N6[all]'\n",
    "response = requests.get(url)"
   ]
  },
  {
   "cell_type": "markdown",
   "metadata": {},
   "source": [
    "### Ensure the request was successful"
   ]
  },
  {
   "cell_type": "code",
   "execution_count": 28,
   "metadata": {},
   "outputs": [
    {
     "name": "stdout",
     "output_type": "stream",
     "text": [
      "Successful request!\n"
     ]
    }
   ],
   "source": [
    "if response.status_code == 200:\n",
    "    data = response.json()\n",
    "    print(\"Successful request!\")\n",
    "else:\n",
    "    print(f\"Request failed with status code {response.status_code}\")"
   ]
  },
  {
   "cell_type": "markdown",
   "metadata": {},
   "source": [
    "### Cleanning and transforming the data"
   ]
  },
  {
   "cell_type": "code",
   "execution_count": 29,
   "metadata": {},
   "outputs": [],
   "source": [
    "data = response.json()\n",
    "\n",
    "# Flatten data\n",
    "flattened_data = []\n",
    "for item in data[0]['resultados'][0]['series']:\n",
    "    id = item['localidade']['id']\n",
    "    name = item['localidade']['nome']\n",
    "    population = item['serie']['2022']\n",
    "    flattened_data.append({'id': id, 'name': name, 'population': population})\n",
    "\n",
    "# Create DataFrame\n",
    "df = pd.DataFrame(flattened_data)\n",
    "df[['city', 'state']] = df['name'].str.split(' - ', expand=True)\n",
    "\n",
    "# Convert the population column to integers\n",
    "df['population'] = df['population'].astype(int)\n",
    "\n",
    "# Add the 'year' column\n",
    "df['year'] = 2022\n",
    "\n",
    "# Drop the 'name' column and reorder columns\n",
    "df = df[['id', 'year', 'population', 'city', 'state']]\n",
    "\n",
    "# Load existing data from CSV\n",
    "csv_path = 'C:\\\\Users\\\\jlfen\\\\OneDrive\\\\Documentos\\\\JoaoKasten\\\\005_applied_projects\\\\project.censo-dataviz\\\\data\\\\census_data.csv'\n",
    "df_existing = pd.read_csv(csv_path)\n",
    "\n",
    "# Combine new and existing data\n",
    "df_combined = pd.concat([df_existing, df], ignore_index=True)\n",
    "\n",
    "# Remove duplicates based on 'id' and 'year' columns\n",
    "df_combined.drop_duplicates(subset=['id', 'year'], inplace=True)\n",
    "\n",
    "# Save the combined DataFrame back to the CSV\n",
    "df_combined.to_csv(csv_path, index=False, encoding='utf-8-sig')"
   ]
  },
  {
   "cell_type": "markdown",
   "metadata": {},
   "source": [
    "### Saving _df_ to a csv file"
   ]
  }
 ],
 "metadata": {
  "kernelspec": {
   "display_name": "base",
   "language": "python",
   "name": "python3"
  },
  "language_info": {
   "codemirror_mode": {
    "name": "ipython",
    "version": 3
   },
   "file_extension": ".py",
   "mimetype": "text/x-python",
   "name": "python",
   "nbconvert_exporter": "python",
   "pygments_lexer": "ipython3",
   "version": "3.10.9"
  },
  "orig_nbformat": 4
 },
 "nbformat": 4,
 "nbformat_minor": 2
}
