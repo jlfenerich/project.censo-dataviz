{
 "cells": [
  {
   "cell_type": "code",
   "execution_count": 4,
   "metadata": {},
   "outputs": [],
   "source": [
    "import pandas as pd"
   ]
  },
  {
   "cell_type": "code",
   "execution_count": 5,
   "metadata": {},
   "outputs": [],
   "source": [
    "csv_path = 'C:\\\\Users\\\\jlfen\\\\OneDrive\\\\Documentos\\\\JoaoKasten\\\\005_applied_projects\\\\project.censo-dataviz\\\\src\\\\data\\\\census_data.csv'\n",
    "df = pd.read_csv(csv_path)"
   ]
  },
  {
   "cell_type": "code",
   "execution_count": 6,
   "metadata": {},
   "outputs": [
    {
     "name": "stdout",
     "output_type": "stream",
     "text": [
      "            id  year  population                   city state\n",
      "0      1100015  2022     21441.0  Alta Floresta D'Oeste    RO\n",
      "1      1100023  2022     96152.0              Ariquemes    RO\n",
      "2      1100031  2022      5363.0                 Cabixi    RO\n",
      "3      1100049  2022     86502.0                 Cacoal    RO\n",
      "4      1100056  2022     15798.0             Cerejeiras    RO\n",
      "...        ...   ...         ...                    ...   ...\n",
      "22260  5222302  2000      4492.0          Vila Propício    GO\n",
      "22261  5222302  2010      5145.0          Vila Propício    GO\n",
      "22262  5300108  1991   1593455.0               Brasília    DF\n",
      "22263  5300108  2000   2044211.0               Brasília    DF\n",
      "22264  5300108  2010   2558865.0               Brasília    DF\n",
      "\n",
      "[22265 rows x 5 columns]\n"
     ]
    }
   ],
   "source": [
    "print(df)"
   ]
  },
  {
   "cell_type": "code",
   "execution_count": 7,
   "metadata": {},
   "outputs": [],
   "source": [
    "sp_data = df.loc[(df['city'] == 'São Paulo') & (df['state'] == 'SP')]\n",
    "\n",
    "# Drop the 'name' columns\n",
    "sp_data = sp_data.drop(columns=['id'])"
   ]
  },
  {
   "cell_type": "code",
   "execution_count": 8,
   "metadata": {},
   "outputs": [
    {
     "name": "stdout",
     "output_type": "stream",
     "text": [
      "       year  population       city state\n",
      "3829   2022  11394443.0  São Paulo    SP\n",
      "17054  1991   9548269.0  São Paulo    SP\n",
      "17055  2000  10380874.0  São Paulo    SP\n",
      "17056  2010  11216559.0  São Paulo    SP\n"
     ]
    }
   ],
   "source": [
    "print(sp_data)"
   ]
  },
  {
   "cell_type": "markdown",
   "metadata": {},
   "source": [
    "### Taxa de Crescimento Populacional da cidade de São Paulo desde 1991"
   ]
  },
  {
   "cell_type": "code",
   "execution_count": 9,
   "metadata": {},
   "outputs": [
    {
     "name": "stdout",
     "output_type": "stream",
     "text": [
      "       year  population       city state  growth_rate\n",
      "17054  1991   9548269.0  São Paulo    SP          NaN\n",
      "17055  2000  10380874.0  São Paulo    SP     8.719958\n",
      "17056  2010  11216559.0  São Paulo    SP     8.050237\n",
      "3829   2022  11394443.0  São Paulo    SP     1.585905\n"
     ]
    }
   ],
   "source": [
    "# Ordenando os dados por ano\n",
    "sp_data = sp_data.sort_values(by='year')\n",
    "\n",
    "# Calculando a diferença da população entre anos consecutivos\n",
    "sp_data['population_difference'] = sp_data['population'].diff()\n",
    "\n",
    "# Calculando a taxa de crescimento\n",
    "sp_data['growth_rate'] = (sp_data['population_difference'] / sp_data['population'].shift(1)) * 100\n",
    "\n",
    "# Limpando colunas auxiliares\n",
    "sp_data = sp_data.drop(columns=['population_difference'])\n",
    "\n",
    "print(sp_data)\n"
   ]
  },
  {
   "cell_type": "markdown",
   "metadata": {},
   "source": [
    "### Taxa de Crescimento Populacional do Estado de São Paulo desde 1991"
   ]
  },
  {
   "cell_type": "code",
   "execution_count": 10,
   "metadata": {},
   "outputs": [
    {
     "name": "stdout",
     "output_type": "stream",
     "text": [
      "   year  population  growth_rate\n",
      "0  1991  31354404.0          NaN\n",
      "1  2000  36851754.0    17.532944\n",
      "2  2010  41033567.0    11.347663\n",
      "3  2022  44127768.0     7.540658\n"
     ]
    }
   ],
   "source": [
    "# Filtrando dados para o estado de São Paulo\n",
    "state_sp_data = df[df['state'] == 'SP']\n",
    "\n",
    "# Agregando a população por ano\n",
    "agg_sp_data = state_sp_data.groupby('year').population.sum().reset_index()\n",
    "\n",
    "# Calculando a diferença da população entre anos consecutivos\n",
    "agg_sp_data['population_difference'] = agg_sp_data['population'].diff()\n",
    "\n",
    "# Calculando a taxa de crescimento\n",
    "agg_sp_data['growth_rate'] = (agg_sp_data['population_difference'] / agg_sp_data['population'].shift(1)) * 100\n",
    "\n",
    "# Limpando colunas auxiliares\n",
    "agg_sp_data = agg_sp_data.drop(columns=['population_difference'])\n",
    "\n",
    "print(agg_sp_data)\n"
   ]
  },
  {
   "cell_type": "markdown",
   "metadata": {},
   "source": [
    "### Calculo da Taxa de Crescimento Populacional do Brasil desde 1991"
   ]
  },
  {
   "cell_type": "code",
   "execution_count": 11,
   "metadata": {},
   "outputs": [
    {
     "name": "stdout",
     "output_type": "stream",
     "text": [
      "   year   population  growth_rate\n",
      "0  1991  146186030.0          NaN\n",
      "1  2000  169252872.0    15.779101\n",
      "2  2010  190073788.0    12.301662\n",
      "3  2022  202066275.0     6.309385\n"
     ]
    }
   ],
   "source": [
    "# Agregando a população por ano para todo o Brasil\n",
    "agg_brazil_data = df.groupby('year').population.sum().reset_index()\n",
    "\n",
    "# Calculando a diferença da população entre anos consecutivos\n",
    "agg_brazil_data['population_difference'] = agg_brazil_data['population'].diff()\n",
    "\n",
    "# Calculando a taxa de crescimento\n",
    "agg_brazil_data['growth_rate'] = (agg_brazil_data['population_difference'] / agg_brazil_data['population'].shift(1)) * 100\n",
    "\n",
    "# Limpando colunas auxiliares\n",
    "agg_brazil_data = agg_brazil_data.drop(columns=['population_difference'])\n",
    "\n",
    "print(agg_brazil_data)"
   ]
  },
  {
   "cell_type": "markdown",
   "metadata": {},
   "source": [
    "### Calculo de crescimento poupulacional (_%_) dos estados desde o ultimo Censo"
   ]
  },
  {
   "cell_type": "code",
   "execution_count": 12,
   "metadata": {},
   "outputs": [
    {
     "name": "stdout",
     "output_type": "stream",
     "text": [
      "year   growth_percentage\n",
      "state                   \n",
      "RR             38.731821\n",
      "SC             21.619353\n",
      "MT             20.412812\n",
      "GO             17.312010\n",
      "AM             13.008844\n",
      "AC             12.799646\n",
      "MS             12.297885\n",
      "PR              9.448741\n",
      "AP              9.272309\n",
      "DF              9.132408\n",
      "TO              9.123842\n",
      "ES              8.742685\n",
      "SP              7.540658\n",
      "PA              6.842410\n",
      "SE              6.597514\n",
      "PB              5.350046\n",
      "PI              4.705151\n",
      "MG              4.694098\n",
      "RN              4.065076\n",
      "CE              3.889610\n",
      "MA              2.899999\n",
      "PE              2.814261\n",
      "RS              1.624153\n",
      "RO              1.431723\n",
      "BA              0.756057\n",
      "RJ              0.335574\n",
      "AL              0.095659\n"
     ]
    }
   ],
   "source": [
    "# Filtrando dados para os anos de 2010 e o último ano disponível no dataset\n",
    "filtered_data = df[df['year'].isin([2010, df['year'].max()])]\n",
    "\n",
    "# Agregando população por estado e ano\n",
    "state_population = filtered_data.groupby(['state', 'year']).population.sum().unstack()\n",
    "\n",
    "# Calculando o crescimento percentual entre o último ano e 2010\n",
    "state_population['growth_percentage'] = ((state_population[df['year'].max()] - state_population[2010]) / state_population[2010]) * 100\n",
    "\n",
    "# Ordenando os estados pelo crescimento percentual em ordem decrescente\n",
    "sorted_states = state_population.sort_values(by='growth_percentage', ascending=False)\n",
    "\n",
    "print(sorted_states[['growth_percentage']])"
   ]
  }
 ],
 "metadata": {
  "kernelspec": {
   "display_name": "base",
   "language": "python",
   "name": "python3"
  },
  "language_info": {
   "codemirror_mode": {
    "name": "ipython",
    "version": 3
   },
   "file_extension": ".py",
   "mimetype": "text/x-python",
   "name": "python",
   "nbconvert_exporter": "python",
   "pygments_lexer": "ipython3",
   "version": "3.10.12"
  },
  "orig_nbformat": 4
 },
 "nbformat": 4,
 "nbformat_minor": 2
}
