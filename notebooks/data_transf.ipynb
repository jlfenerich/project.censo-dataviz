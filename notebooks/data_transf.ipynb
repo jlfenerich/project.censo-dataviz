{
 "cells": [
  {
   "cell_type": "code",
   "execution_count": 1,
   "metadata": {},
   "outputs": [],
   "source": [
    "import pandas as pd"
   ]
  },
  {
   "cell_type": "code",
   "execution_count": 3,
   "metadata": {},
   "outputs": [],
   "source": [
    "csv_path = 'C:\\\\Users\\\\jlfen\\\\OneDrive\\\\Documentos\\\\JoaoKasten\\\\005_applied_projects\\\\project.censo-dataviz\\\\data\\\\census_data.csv'\n",
    "df = pd.read_csv(csv_path)"
   ]
  },
  {
   "cell_type": "code",
   "execution_count": null,
   "metadata": {},
   "outputs": [],
   "source": [
    "print(df)"
   ]
  },
  {
   "cell_type": "code",
   "execution_count": null,
   "metadata": {},
   "outputs": [],
   "source": [
    "sp_data = df.loc[(df['city'] == 'São Paulo') & (df['state'] == 'SP')]\n",
    "\n",
    "# Drop the 'name' columns\n",
    "sp_data = sp_data.drop(columns=['id'])"
   ]
  },
  {
   "cell_type": "code",
   "execution_count": null,
   "metadata": {},
   "outputs": [],
   "source": [
    "print(sp_data)"
   ]
  },
  {
   "cell_type": "markdown",
   "metadata": {},
   "source": [
    "### Tx de crescimento da população da cidade de São Paulo desde 1991"
   ]
  },
  {
   "cell_type": "code",
   "execution_count": null,
   "metadata": {},
   "outputs": [],
   "source": [
    "# Ordenando os dados por ano\n",
    "sp_data = sp_data.sort_values(by='year')\n",
    "\n",
    "# Calculando a diferença da população entre anos consecutivos\n",
    "sp_data['population_difference'] = sp_data['population'].diff()\n",
    "\n",
    "# Calculando a taxa de crescimento\n",
    "sp_data['growth_rate'] = (sp_data['population_difference'] / sp_data['population'].shift(1)) * 100\n",
    "\n",
    "# Limpando colunas auxiliares\n",
    "sp_data = sp_data.drop(columns=['population_difference'])\n",
    "\n",
    "print(sp_data)\n"
   ]
  },
  {
   "cell_type": "markdown",
   "metadata": {},
   "source": [
    "### Tx % de crescimento do estado de São Paulo desde 1991"
   ]
  },
  {
   "cell_type": "code",
   "execution_count": null,
   "metadata": {},
   "outputs": [],
   "source": [
    "# Filtrando dados para o estado de São Paulo\n",
    "state_sp_data = df[df['state'] == 'SP']\n",
    "\n",
    "# Agregando a população por ano\n",
    "agg_sp_data = state_sp_data.groupby('year').population.sum().reset_index()\n",
    "\n",
    "# Calculando a diferença da população entre anos consecutivos\n",
    "agg_sp_data['population_difference'] = agg_sp_data['population'].diff()\n",
    "\n",
    "# Calculando a taxa de crescimento\n",
    "agg_sp_data['growth_rate'] = (agg_sp_data['population_difference'] / agg_sp_data['population'].shift(1)) * 100\n",
    "\n",
    "# Limpando colunas auxiliares\n",
    "agg_sp_data = agg_sp_data.drop(columns=['population_difference'])\n",
    "\n",
    "print(agg_sp_data)\n"
   ]
  },
  {
   "cell_type": "markdown",
   "metadata": {},
   "source": [
    "### Calculo da tx de crescimento do Brasil desde 1991"
   ]
  },
  {
   "cell_type": "code",
   "execution_count": null,
   "metadata": {},
   "outputs": [],
   "source": [
    "# Agregando a população por ano para todo o Brasil\n",
    "agg_brazil_data = df.groupby('year').population.sum().reset_index()\n",
    "\n",
    "# Calculando a diferença da população entre anos consecutivos\n",
    "agg_brazil_data['population_difference'] = agg_brazil_data['population'].diff()\n",
    "\n",
    "# Calculando a taxa de crescimento\n",
    "agg_brazil_data['growth_rate'] = (agg_brazil_data['population_difference'] / agg_brazil_data['population'].shift(1)) * 100\n",
    "\n",
    "# Limpando colunas auxiliares\n",
    "agg_brazil_data = agg_brazil_data.drop(columns=['population_difference'])\n",
    "\n",
    "print(agg_brazil_data)"
   ]
  },
  {
   "cell_type": "markdown",
   "metadata": {},
   "source": [
    "### Calculo de % de crescimento dos estados desde o ultimo Censo"
   ]
  },
  {
   "cell_type": "code",
   "execution_count": null,
   "metadata": {},
   "outputs": [],
   "source": [
    "# Filtrando dados para os anos de 2010 e o último ano disponível no dataset\n",
    "filtered_data = df[df['year'].isin([2010, df['year'].max()])]\n",
    "\n",
    "# Agregando população por estado e ano\n",
    "state_population = filtered_data.groupby(['state', 'year']).population.sum().unstack()\n",
    "\n",
    "# Calculando o crescimento percentual entre o último ano e 2010\n",
    "state_population['growth_percentage'] = ((state_population[df['year'].max()] - state_population[2010]) / state_population[2010]) * 100\n",
    "\n",
    "# Ordenando os estados pelo crescimento percentual em ordem decrescente\n",
    "sorted_states = state_population.sort_values(by='growth_percentage', ascending=False)\n",
    "\n",
    "print(sorted_states[['growth_percentage']])"
   ]
  }
 ],
 "metadata": {
  "kernelspec": {
   "display_name": "base",
   "language": "python",
   "name": "python3"
  },
  "language_info": {
   "codemirror_mode": {
    "name": "ipython",
    "version": 3
   },
   "file_extension": ".py",
   "mimetype": "text/x-python",
   "name": "python",
   "nbconvert_exporter": "python",
   "pygments_lexer": "ipython3",
   "version": "3.10.12"
  },
  "orig_nbformat": 4
 },
 "nbformat": 4,
 "nbformat_minor": 2
}
