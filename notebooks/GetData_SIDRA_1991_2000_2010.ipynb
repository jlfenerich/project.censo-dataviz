{
 "cells": [
  {
   "cell_type": "markdown",
   "metadata": {},
   "source": [
    "### Import libraries"
   ]
  },
  {
   "cell_type": "code",
   "execution_count": 2,
   "metadata": {},
   "outputs": [],
   "source": [
    "import requests\n",
    "import ssl\n",
    "import pandas as pd\n",
    "import numpy as np\n",
    "import os"
   ]
  },
  {
   "cell_type": "markdown",
   "metadata": {},
   "source": [
    "### Fetch data from API | Census 1991, 2000 e 2010"
   ]
  },
  {
   "cell_type": "code",
   "execution_count": 3,
   "metadata": {},
   "outputs": [],
   "source": [
    "class TLSAdapter(requests.adapters.HTTPAdapter):\n",
    "    def init_poolmanager(self, *args, **kwargs):\n",
    "        ctx = ssl.create_default_context()\n",
    "        ctx.set_ciphers(\"DEFAULT@SECLEVEL=1\")\n",
    "        ctx.options |= 0x4   # <-- the key part here, OP_LEGACY_SERVER_CONNECT\n",
    "        kwargs[\"ssl_context\"] = ctx\n",
    "        return super(TLSAdapter, self).init_poolmanager(*args, **kwargs)\n",
    "\n",
    "url = \"https://servicodados.ibge.gov.br/api/v3/agregados/156/periodos/1991|2000|2010/variaveis/134?localidades=N6[all]\"\n",
    "\n",
    "with requests.session() as s:\n",
    "    s.mount(\"https://\", TLSAdapter())\n",
    "    s.get(url).json()\n",
    "    response = s.get(url)"
   ]
  },
  {
   "cell_type": "markdown",
   "metadata": {},
   "source": [
    "### Ensure the request was successful"
   ]
  },
  {
   "cell_type": "code",
   "execution_count": 4,
   "metadata": {},
   "outputs": [
    {
     "name": "stdout",
     "output_type": "stream",
     "text": [
      "Successful request!\n"
     ]
    }
   ],
   "source": [
    "if response.status_code == 200:\n",
    "    # Request was successful, so we can get the data\n",
    "    data = response.json()\n",
    "    print(\"Successful request!\")\n",
    "else:\n",
    "    # Request failed, so we can't get the data\n",
    "    print(f\"Request fail with status code {response.status_code}\")"
   ]
  },
  {
   "cell_type": "code",
   "execution_count": 6,
   "metadata": {},
   "outputs": [
    {
     "name": "stdout",
     "output_type": "stream",
     "text": [
      "(1100015, 1991, 31957, \"Alta Floresta D'Oeste\", 'RO')\n",
      "(1100015, 2000, 26481, \"Alta Floresta D'Oeste\", 'RO')\n",
      "(1100015, 2010, 24285, \"Alta Floresta D'Oeste\", 'RO')\n",
      "(1100023, 1991, 83365, 'Ariquemes', 'RO')\n",
      "(1100023, 2000, 74383, 'Ariquemes', 'RO')\n"
     ]
    }
   ],
   "source": [
    "import sqlite3\n",
    "\n",
    "# 1. Conexão com o Banco de Dados\n",
    "conn = sqlite3.connect('path_to_your_database.db')  # Altere para o caminho do seu banco de dados\n",
    "cursor = conn.cursor()\n",
    "\n",
    "# 2. Criação da Tabela\n",
    "cursor.execute('''\n",
    "CREATE TABLE IF NOT EXISTS population_data (\n",
    "    id INTEGER,\n",
    "    year INTEGER,\n",
    "    population INTEGER,\n",
    "    city TEXT,\n",
    "    state TEXT,\n",
    "    PRIMARY KEY(id, year)\n",
    ")\n",
    "''')\n",
    "conn.commit()\n",
    "\n",
    "# 3. Inserção de Dados\n",
    "# Aqui, 'df' é o DataFrame que você criou no seu código original.\n",
    "for _, row in df.iterrows():\n",
    "    cursor.execute('''\n",
    "    INSERT OR REPLACE INTO population_data (id, year, population, city, state)\n",
    "    VALUES (?, ?, ?, ?, ?)\n",
    "    ''', (row['id'], row['year'], row['population'], row['city'], row['state']))\n",
    "conn.commit()\n",
    "\n",
    "# 4. Verificação de Dados\n",
    "cursor.execute('SELECT * FROM population_data LIMIT 5')\n",
    "for row in cursor.fetchall():\n",
    "    print(row)\n",
    "\n",
    "# 5. Encerramento da Conexão\n",
    "conn.close()\n"
   ]
  },
  {
   "cell_type": "markdown",
   "metadata": {},
   "source": [
    "### Cleanning and transforming the data"
   ]
  },
  {
   "cell_type": "code",
   "execution_count": 5,
   "metadata": {},
   "outputs": [
    {
     "name": "stdout",
     "output_type": "stream",
     "text": [
      "            id  year  population                   city state\n",
      "0      1100015  1991     31957.0  Alta Floresta D'Oeste    RO\n",
      "1      1100015  2000     26481.0  Alta Floresta D'Oeste    RO\n",
      "2      1100015  2010     24285.0  Alta Floresta D'Oeste    RO\n",
      "3      1100023  1991     83365.0              Ariquemes    RO\n",
      "4      1100023  2000     74383.0              Ariquemes    RO\n",
      "...        ...   ...         ...                    ...   ...\n",
      "16690  5222302  2000      4492.0          Vila Propício    GO\n",
      "16691  5222302  2010      5145.0          Vila Propício    GO\n",
      "16692  5300108  1991   1593455.0               Brasília    DF\n",
      "16693  5300108  2000   2044211.0               Brasília    DF\n",
      "16694  5300108  2010   2558865.0               Brasília    DF\n",
      "\n",
      "[16695 rows x 5 columns]\n"
     ]
    },
    {
     "name": "stderr",
     "output_type": "stream",
     "text": [
      "C:\\Users\\jlfen\\AppData\\Local\\Temp\\ipykernel_28252\\2065828726.py:38: FutureWarning: The error_bad_lines argument has been deprecated and will be removed in a future version. Use on_bad_lines in the future.\n",
      "\n",
      "\n",
      "  df_existing = pd.read_csv(csv_path, error_bad_lines=False, warn_bad_lines=True)\n",
      "C:\\Users\\jlfen\\AppData\\Local\\Temp\\ipykernel_28252\\2065828726.py:38: FutureWarning: The warn_bad_lines argument has been deprecated and will be removed in a future version. Use on_bad_lines in the future.\n",
      "\n",
      "\n",
      "  df_existing = pd.read_csv(csv_path, error_bad_lines=False, warn_bad_lines=True)\n"
     ]
    }
   ],
   "source": [
    "data = response.json()\n",
    "\n",
    "# Flatten data\n",
    "flattened_data = []\n",
    "for item in data[0]['resultados'][0]['series']:\n",
    "    id = item['localidade']['id']\n",
    "    name = item['localidade']['nome']\n",
    "    \n",
    "    # Iterate over years in the 'serie' dictionary\n",
    "    for year, population in item['serie'].items():\n",
    "        # Convert '...' to NaN\n",
    "        if population == '...':\n",
    "            population = np.nan\n",
    "        flattened_data.append({'id': id, 'name': name, 'year': year, 'population': population})\n",
    "\n",
    "# Create DataFrame\n",
    "df = pd.DataFrame(flattened_data)\n",
    "\n",
    "# Split 'name' into 'city' and 'state'\n",
    "df[['city', 'state']] = df['name'].str.split(' - ', expand=True)\n",
    "\n",
    "# Convert the 'year' and 'population' columns\n",
    "df['year'] = df['year'].astype(int)\n",
    "df['population'] = df['population'].fillna(-1).astype(int)\n",
    "df['population'] = df['population'].replace(-1, np.nan)\n",
    "\n",
    "# Drop the 'name' columns\n",
    "df = df.drop(columns=['name'])\n",
    "\n",
    "print(df)\n",
    "\n",
    "# Path to the CSV file\n",
    "csv_path = 'C:\\\\Users\\\\jlfen\\\\OneDrive\\\\Documentos\\\\JoaoKasten\\\\005_applied_projects\\\\project.censo-dataviz\\\\src\\\\data\\\\census_data.csv'\n",
    "\n",
    "# Check if the CSV file already exists\n",
    "if os.path.exists(csv_path):\n",
    "    # Load existing data from CSV\n",
    "    df_existing = pd.read_csv(csv_path, error_bad_lines=False, warn_bad_lines=True)\n",
    "    \n",
    "    # Combine new and existing data\n",
    "    df_combined = pd.concat([df_existing, df], ignore_index=True)\n",
    "    \n",
    "    # Remove duplicates based on 'id' and 'year' columns\n",
    "    df_combined.drop_duplicates(subset=['id', 'year'], inplace=True)\n",
    "    \n",
    "    # Save the combined DataFrame back to the CSV\n",
    "    df_combined.to_csv(csv_path, index=False, encoding='utf-8-sig')\n",
    "else:\n",
    "    # If the file doesn't exist, just save the new data\n",
    "    df.to_csv(csv_path, index=False)"
   ]
  }
 ],
 "metadata": {
  "kernelspec": {
   "display_name": "base",
   "language": "python",
   "name": "python3"
  },
  "language_info": {
   "codemirror_mode": {
    "name": "ipython",
    "version": 3
   },
   "file_extension": ".py",
   "mimetype": "text/x-python",
   "name": "python",
   "nbconvert_exporter": "python",
   "pygments_lexer": "ipython3",
   "version": "3.10.12"
  },
  "orig_nbformat": 4
 },
 "nbformat": 4,
 "nbformat_minor": 2
}
