{
 "cells": [
  {
   "cell_type": "markdown",
   "metadata": {},
   "source": [
    "# import libraries"
   ]
  },
  {
   "cell_type": "code",
   "execution_count": null,
   "metadata": {},
   "outputs": [],
   "source": [
    "import pandas as pd \n",
    "import matplotlib.pyplot as plt\n",
    "import seaborn as sns"
   ]
  },
  {
   "cell_type": "markdown",
   "metadata": {},
   "source": [
    "# get data"
   ]
  },
  {
   "cell_type": "code",
   "execution_count": null,
   "metadata": {},
   "outputs": [],
   "source": [
    "csv_path = 'C:\\\\Users\\\\jlfen\\\\OneDrive\\\\Documentos\\\\JoaoKasten\\\\005_applied_projects\\\\project.censo-dataviz\\\\src\\\\data\\\\census_data.csv'\n",
    "df = pd.read_csv(csv_path)"
   ]
  },
  {
   "cell_type": "markdown",
   "metadata": {},
   "source": [
    "## 1. Análise de Crescimento Populacional Brasileiro:\n",
    "\n",
    "* Calcule a taxa de crescimento anual para o Brasil inteiro e para cada estado.\n",
    "* Identifique as cidades com maior e menor crescimento em cada período censitário.\n",
    "* Visualize o crescimento populacional em um gráfico de linhas ou barras."
   ]
  },
  {
   "cell_type": "code",
   "execution_count": null,
   "metadata": {},
   "outputs": [],
   "source": [
    "pop_1991 = df[df['year'] == 1991]['population'].sum()\n",
    "pop_2000 = df[df['year'] == 2000]['population'].sum()\n",
    "pop_2010 = df[df['year'] == 2010]['population'].sum()\n",
    "pop_2022 = df[df['year'] == 2022]['population'].sum()"
   ]
  },
  {
   "cell_type": "markdown",
   "metadata": {},
   "source": [
    "## Taxa de Crescimento Anual (TCA)\n",
    "\n",
    "A fórmula geral para calcular a TCA é:\n",
    "\n",
    "\\begin{equation}\n",
    "TCA = \\left( \\frac{P_{\\text{final}}}{P_{\\text{inicial}}} \\right)^{\\frac{1}{n}} - 1\n",
    "\\end{equation}\n",
    "\n",
    "Onde:\n",
    "- P final: população no final do período\n",
    "- P inicial: população no início do período\n",
    "- n: número de anos entre o início e o final do período"
   ]
  },
  {
   "cell_type": "markdown",
   "metadata": {},
   "source": [
    "### Taxa de Crescimento Populacional Nacional (TCA)\n",
    "\n",
    "Com os números dos últimos Census(desde 1991) podemos constatar que as taxas de Crescimento Populacional brasileira está caindo, "
   ]
  },
  {
   "cell_type": "code",
   "execution_count": null,
   "metadata": {},
   "outputs": [],
   "source": [
    "def tca(p_initial, p_final, n):\n",
    "    return (p_final/p_initial)**(1/n) - 1\n",
    "\n",
    "# Calculando a TCA para os diferentes períodos\n",
    "tca_1991_2000 = tca(pop_1991, pop_2000, 2000-1991)\n",
    "tca_2000_2010 = tca(pop_2000, pop_2010, 2010-2000)\n",
    "tca_2010_2022 = tca(pop_2010, pop_2022, 2022-2010)\n",
    "# Calculando a TCA para o período completo\n",
    "tca_1991_2022 = tca(pop_1991, pop_2022, 2022-1991)\n",
    "\n",
    "# Mostrando as equações\n",
    "print(f\"TCA (1991-2000) = {tca_1991_2000*100:.2f}% ao ano\")\n",
    "print(f\"TCA (2000-2010) = {tca_2000_2010*100:.2f}% ao ano\")\n",
    "print(f\"TCA (2010-2022) = {tca_2010_2022*100:.2f}% ao ano\")\n",
    "\n",
    "print(f\"TCA (1991-2022) = {tca_1991_2022*100:.2f}% ao ano\")"
   ]
  },
  {
   "cell_type": "markdown",
   "metadata": {},
   "source": [
    "### Criar tabela com os dados calculados"
   ]
  },
  {
   "cell_type": "code",
   "execution_count": null,
   "metadata": {},
   "outputs": [],
   "source": [
    "data = {\n",
    "    'year': [1991, 2000, 2010, 2022],\n",
    "    'population': [pop_1991, pop_2000, pop_2010, pop_2022],\n",
    "    'tca': [tca_1991_2000, tca_2000_2010, tca_2010_2022, tca_1991_2022]\n",
    "}\n",
    "\n",
    "brazil_population_df = pd.DataFrame(data)\n",
    "print(brazil_population_df)"
   ]
  },
  {
   "cell_type": "markdown",
   "metadata": {},
   "source": [
    "#### O que dizem os dados?\n",
    "\n",
    "* TCA (1991-2000) = 1.64% a.a.\n",
    "* TCA (2000-2010) = 1.17% a.a.\n",
    "* TCA (2010-2022) = 0.51% a.a.\n",
    "* TCA (1991-2022) = 1.05% a.a.\n",
    "\n",
    "A análise da Taxa de Crescimento Populacional ao longo dos anos revela uma clara tendência de desaceleração no Brasil. No período entre os censos de 1991 e 2000, a taxa estava em 1.64% ao ano. No entanto, ela caiu para 1.17% ao ano entre 2000 e 2010, e mais drasticamente para 0.51% ao ano entre 2010 e 2022. Esta última taxa é até mesmo menor do que a média geral do período entre 1991 e 2022, que é de 1.05% ao ano.\n",
    "\n",
    "Essa tendência sugere um envelhecimento da população brasileira. Não é um fenômeno isolado; muitos países ao redor do mundo estão experienciando uma desaceleração similar em seu crescimento populacional [1].\n",
    "\n",
    "Causas possíveis?"
   ]
  },
  {
   "cell_type": "code",
   "execution_count": null,
   "metadata": {},
   "outputs": [],
   "source": [
    "print(brazil_population_df.head())"
   ]
  },
  {
   "cell_type": "code",
   "execution_count": null,
   "metadata": {},
   "outputs": [],
   "source": [
    "# Define um estilo para o gráfico\n",
    "sns.set_style(\"whitegrid\")\n",
    "\n",
    "# Inicializa a figura e os eixos\n",
    "fig, ax1 = plt.subplots(figsize=(12,7))\n",
    "\n",
    "# Gráfico de barras para a população\n",
    "bars = ax1.bar(brazil_population_df['year'], brazil_population_df['population'], color='lightblue', alpha=0.8, label='População')\n",
    "ax1.set_xlabel('Ano', fontsize=14)\n",
    "ax1.set_ylabel('População', color='blue', fontsize=14)\n",
    "ax1.tick_params('y', colors='blue', labelsize=12)\n",
    "ax1.tick_params('x', labelsize=12)\n",
    "\n",
    "# Configurando os ticks do eixo X para mostrar apenas os anos dos Censos\n",
    "ax1.set_xticks(df['year'].values)\n",
    "\n",
    "# Criando um segundo eixo Y para a taxa de crescimento\n",
    "ax2 = ax1.twinx()\n",
    "line = ax2.plot(df['year'], df['tca'], color='darkred', marker='o', label='TCA', linestyle='--')\n",
    "ax2.set_ylabel('TCA (%)', color='darkred', fontsize=14)\n",
    "ax2.tick_params('y', colors='darkred', labelsize=12)\n",
    "\n",
    "# Título\n",
    "plt.title('Crescimento Populacional e TCA ao Longo dos Anos', fontsize=16)\n",
    "\n",
    "# Legenda\n",
    "lines, labels = ax1.get_legend_handles_labels()\n",
    "lines2, labels2 = ax2.get_legend_handles_labels()\n",
    "ax2.legend(lines + lines2, labels + labels2, loc=2)\n",
    "\n",
    "# Ajusta o layout e exibe o gráfico\n",
    "fig.tight_layout()\n",
    "plt.show()"
   ]
  }
 ],
 "metadata": {
  "kernelspec": {
   "display_name": "DataScienceEnv",
   "language": "python",
   "name": "python3"
  },
  "language_info": {
   "codemirror_mode": {
    "name": "ipython",
    "version": 3
   },
   "file_extension": ".py",
   "mimetype": "text/x-python",
   "name": "python",
   "nbconvert_exporter": "python",
   "pygments_lexer": "ipython3",
   "version": "3.10.12"
  },
  "orig_nbformat": 4
 },
 "nbformat": 4,
 "nbformat_minor": 2
}
