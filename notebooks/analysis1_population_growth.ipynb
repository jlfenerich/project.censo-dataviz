{
 "cells": [
  {
   "cell_type": "markdown",
   "metadata": {},
   "source": [
    "# import libraries"
   ]
  },
  {
   "cell_type": "code",
   "execution_count": 2,
   "metadata": {},
   "outputs": [],
   "source": [
    "import pandas as pd "
   ]
  },
  {
   "cell_type": "markdown",
   "metadata": {},
   "source": [
    "# get data"
   ]
  },
  {
   "cell_type": "code",
   "execution_count": 3,
   "metadata": {},
   "outputs": [],
   "source": [
    "csv_path = 'C:\\\\Users\\\\jlfen\\\\OneDrive\\\\Documentos\\\\JoaoKasten\\\\005_applied_projects\\\\project.censo-dataviz\\\\src\\\\data\\\\census_data.csv'\n",
    "df = pd.read_csv(csv_path)"
   ]
  },
  {
   "cell_type": "markdown",
   "metadata": {},
   "source": [
    "## 1. Análise de Crescimento Populacional Brasileiro:\n",
    "\n",
    "* Calcule a taxa de crescimento anual para o Brasil inteiro e para cada estado.\n",
    "* Identifique as cidades com maior e menor crescimento em cada período censitário.\n",
    "* Visualize o crescimento populacional em um gráfico de linhas ou barras."
   ]
  },
  {
   "cell_type": "code",
   "execution_count": 4,
   "metadata": {},
   "outputs": [],
   "source": [
    "pop_1991 = df[df['year'] == 1991]['population'].sum()\n",
    "pop_2000 = df[df['year'] == 2000]['population'].sum()\n",
    "pop_2010 = df[df['year'] == 2010]['population'].sum()\n",
    "pop_2022 = df[df['year'] == 2022]['population'].sum()"
   ]
  },
  {
   "cell_type": "markdown",
   "metadata": {},
   "source": [
    "## Taxa de Crescimento Anual (TCA)\n",
    "\n",
    "A fórmula geral para calcular a TCA é:\n",
    "\n",
    "\\begin{equation}\n",
    "TCA = \\left( \\frac{P_{\\text{final}}}{P_{\\text{inicial}}} \\right)^{\\frac{1}{n}} - 1\n",
    "\\end{equation}\n",
    "\n",
    "Onde:\n",
    "- P final: população no final do período\n",
    "- P inicial: população no início do período\n",
    "- n: número de anos entre o início e o final do período\n",
    "\n",
    "Aplicando esta fórmula aos dados disponíveis, temos:\n",
    "\n",
    "- **TCA (1991-2000)**: X.XX% ao ano (Substitua X.XX pelo valor calculado)\n",
    "- **TCA (2000-2010)**: Y.YY% ao ano (Substitua Y.YY pelo valor calculado)\n",
    "- **TCA (2010-2022)**: Z.ZZ% ao ano (Substitua Z.ZZ pelo valor calculado)"
   ]
  },
  {
   "cell_type": "markdown",
   "metadata": {},
   "source": [
    "### Criar tabela com os dados calculados"
   ]
  },
  {
   "cell_type": "code",
   "execution_count": 5,
   "metadata": {},
   "outputs": [
    {
     "name": "stdout",
     "output_type": "stream",
     "text": [
      "   year   population\n",
      "0  1991  146186030.0\n",
      "1  2000  169252872.0\n",
      "2  2010  190073788.0\n",
      "3  2022  202066275.0\n"
     ]
    }
   ],
   "source": [
    "data = {\n",
    "    'year': [1991, 2000, 2010, 2022],\n",
    "    'population': [pop_1991, pop_2000, pop_2010, pop_2022]\n",
    "}\n",
    "\n",
    "brazil_population_df = pd.DataFrame(data)\n",
    "print(brazil_population_df)"
   ]
  },
  {
   "cell_type": "markdown",
   "metadata": {},
   "source": [
    "### Crescimento Populacional Nacional\n",
    "\n",
    "Com os números dos últimos Census(desde 1991) podemos constatar que as taxas de Crescimento Populacional brasileira está caindo, "
   ]
  },
  {
   "cell_type": "code",
   "execution_count": 13,
   "metadata": {},
   "outputs": [
    {
     "name": "stdout",
     "output_type": "stream",
     "text": [
      "TCA (1991-2000) = 1.64% ao ano\n",
      "TCA (2000-2010) = 1.17% ao ano\n",
      "TCA (2010-2022) = 0.51% ao ano\n",
      "TCA (1991-2022) = 1.05% ao ano\n"
     ]
    }
   ],
   "source": [
    "def tca(p_initial, p_final, n):\n",
    "    return (p_final/p_initial)**(1/n) - 1\n",
    "\n",
    "# Calculando a TCA para os diferentes períodos\n",
    "tca_1991_2000 = tca(pop_1991, pop_2000, 2000-1991)\n",
    "tca_2000_2010 = tca(pop_2000, pop_2010, 2010-2000)\n",
    "tca_2010_2022 = tca(pop_2010, pop_2022, 2022-2010)\n",
    "\n",
    "tca_1991_2022 = tca(pop_1991, pop_2022, 2022-1991)\n",
    "\n",
    "# Mostrando as equações\n",
    "print(f\"TCA (1991-2000) = {tca_1991_2000*100:.2f}% ao ano\")\n",
    "print(f\"TCA (2000-2010) = {tca_2000_2010*100:.2f}% ao ano\")\n",
    "print(f\"TCA (2010-2022) = {tca_2010_2022*100:.2f}% ao ano\")\n",
    "\n",
    "print(f\"TCA (1991-2022) = {tca_1991_2022*100:.2f}% ao ano\")"
   ]
  },
  {
   "cell_type": "markdown",
   "metadata": {},
   "source": [
    "#### O que dizem os dados?\n",
    "\n",
    "* TCA (1991-2000) = 1.64% a.a.\n",
    "* TCA (2000-2010) = 1.17% a.a.\n",
    "* TCA (2010-2022) = 0.51% a.a.\n",
    "* TCA (1991-2022) = 1.05% a.a.\n",
    "\n",
    "Os dados mostram que a Taxa de Crescimento Populacional está desacelerando, entre os Censo 1991 e 2000, a taxa de crescimento foi 1.64% a.a., enquanto de 2000-2010 era de 1.17% a.a. e já entre os ultimos dois censo (2010-2022) está em 0.51% a.a. sendo menor até que o período médio de 1991 e 2022 de 1.05% a.a.\n",
    "\n",
    "O que nos leva a inferir que a população brasileira está se tornando mais velha."
   ]
  },
  {
   "cell_type": "markdown",
   "metadata": {},
   "source": []
  }
 ],
 "metadata": {
  "kernelspec": {
   "display_name": "DataScienceEnv",
   "language": "python",
   "name": "python3"
  },
  "language_info": {
   "codemirror_mode": {
    "name": "ipython",
    "version": 3
   },
   "file_extension": ".py",
   "mimetype": "text/x-python",
   "name": "python",
   "nbconvert_exporter": "python",
   "pygments_lexer": "ipython3",
   "version": "3.10.12"
  },
  "orig_nbformat": 4
 },
 "nbformat": 4,
 "nbformat_minor": 2
}
