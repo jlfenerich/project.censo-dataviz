{
 "cells": [
  {
   "cell_type": "markdown",
   "metadata": {},
   "source": [
    "# import libraries"
   ]
  },
  {
   "cell_type": "code",
   "execution_count": 2,
   "metadata": {},
   "outputs": [],
   "source": [
    "import pandas as pd "
   ]
  },
  {
   "cell_type": "markdown",
   "metadata": {},
   "source": [
    "# get data"
   ]
  },
  {
   "cell_type": "code",
   "execution_count": 3,
   "metadata": {},
   "outputs": [],
   "source": [
    "csv_path = 'C:\\\\Users\\\\jlfen\\\\OneDrive\\\\Documentos\\\\JoaoKasten\\\\005_applied_projects\\\\project.censo-dataviz\\\\src\\\\data\\\\census_data.csv'\n",
    "df = pd.read_csv(csv_path)"
   ]
  },
  {
   "cell_type": "markdown",
   "metadata": {},
   "source": [
    "## 1. Análise de Crescimento Populacional Brasileiro:\n",
    "\n",
    "* Calcule a taxa de crescimento anual para o Brasil inteiro e para cada estado.\n",
    "* Identifique as cidades com maior e menor crescimento em cada período censitário.\n",
    "* Visualize o crescimento populacional em um gráfico de linhas ou barras."
   ]
  },
  {
   "cell_type": "code",
   "execution_count": 4,
   "metadata": {},
   "outputs": [],
   "source": [
    "pop_1991 = df[df['year'] == 1991]['population'].sum()\n",
    "pop_2000 = df[df['year'] == 2000]['population'].sum()\n",
    "pop_2010 = df[df['year'] == 2010]['population'].sum()\n",
    "pop_2022 = df[df['year'] == 2022]['population'].sum()"
   ]
  },
  {
   "cell_type": "markdown",
   "metadata": {},
   "source": [
    "### Criar tabela com os dados calculados"
   ]
  },
  {
   "cell_type": "code",
   "execution_count": 5,
   "metadata": {},
   "outputs": [
    {
     "name": "stdout",
     "output_type": "stream",
     "text": [
      "   year   population\n",
      "0  1991  146186030.0\n",
      "1  2000  169252872.0\n",
      "2  2010  190073788.0\n",
      "3  2022  202066275.0\n"
     ]
    }
   ],
   "source": [
    "data = {\n",
    "    'year': [1991, 2000, 2010, 2022],\n",
    "    'population': [pop_1991, pop_2000, pop_2010, pop_2022]\n",
    "}\n",
    "\n",
    "brazil_population_df = pd.DataFrame(data)\n",
    "print(brazil_population_df)"
   ]
  }
 ],
 "metadata": {
  "kernelspec": {
   "display_name": "DataScienceEnv",
   "language": "python",
   "name": "python3"
  },
  "language_info": {
   "codemirror_mode": {
    "name": "ipython",
    "version": 3
   },
   "file_extension": ".py",
   "mimetype": "text/x-python",
   "name": "python",
   "nbconvert_exporter": "python",
   "pygments_lexer": "ipython3",
   "version": "3.10.12"
  },
  "orig_nbformat": 4
 },
 "nbformat": 4,
 "nbformat_minor": 2
}
