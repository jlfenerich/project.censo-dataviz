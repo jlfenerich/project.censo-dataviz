{
 "cells": [
  {
   "cell_type": "markdown",
   "metadata": {},
   "source": [
    "## Import libraries"
   ]
  },
  {
   "cell_type": "code",
   "execution_count": 1,
   "metadata": {},
   "outputs": [],
   "source": [
    "import requests\n",
    "import pandas as pd\n",
    "import matplotlib.pyplot as plt"
   ]
  },
  {
   "cell_type": "markdown",
   "metadata": {},
   "source": [
    "## Fetch data from the API"
   ]
  },
  {
   "cell_type": "code",
   "execution_count": null,
   "metadata": {},
   "outputs": [],
   "source": [
    "url = 'https://servicodados.ibge.gov.br/api/v3/agregados/4712/periodos/2022/variaveis/382?localidades=N6[N3[11,12,13,14,15,16,17,21,22,23,24,25,26,27,28,29,31,32,33,35,41,42,43,50,51,52,53]]'\n",
    "response = requests.get(url)"
   ]
  },
  {
   "cell_type": "markdown",
   "metadata": {},
   "source": [
    "## Ensure the request was successful"
   ]
  },
  {
   "cell_type": "code",
   "execution_count": 3,
   "metadata": {},
   "outputs": [],
   "source": [
    "if response.status_code == 200:\n",
    "    data = response.json()\n",
    "\n",
    "    # Flatten data\n",
    "    flattened_data = []\n",
    "    for item in data[0]['resultados'][0]['series']:\n",
    "        id = item['localidade']['id']\n",
    "        name = item['localidade']['nome']\n",
    "        population = item['serie']['2022']\n",
    "        flattened_data.append({'id': id, 'name': name, 'population': population})\n",
    "\n",
    "    # Create DataFrame\n",
    "    df = pd.DataFrame(flattened_data)\n",
    "    df[['city', 'state']] = df['name'].str.split(' - ', expand=True)\n",
    "\n",
    "    # Convert the population column to integers\n",
    "    df['population'] = df['population'].astype(int)\n",
    "\n",
    "    # Drop the 'id' and 'name' columns\n",
    "    df = df.drop(columns=['id', 'name'])\n",
    "\n",
    "    # Aggregate the population by state\n",
    "    state_population = df.groupby('state')['population'].sum()"
   ]
  },
  {
   "cell_type": "code",
   "execution_count": 6,
   "metadata": {},
   "outputs": [],
   "source": [
    "most_populous = df.loc[df.groupby('state')['population'].idxmax()]\n",
    "least_populous = df.loc[df.groupby('state')['population'].idxmin()]"
   ]
  },
  {
   "cell_type": "code",
   "execution_count": 8,
   "metadata": {},
   "outputs": [
    {
     "name": "stdout",
     "output_type": "stream",
     "text": [
      "Most populous cities in each state:\n",
      "      population            city state\n",
      "66        361869      Rio Branco    AC\n",
      "1696      953326          Maceió    AL\n",
      "111      2058362          Manaus    AM\n",
      "303       439881          Macapá    AP\n",
      "2162     2408193        Salvador    BA\n",
      "949      2424850       Fortaleza    CE\n",
      "5569     2792551        Brasília    DF\n",
      "3166      518793           Serra    ES\n",
      "5417     1434294         Goiânia    GO\n",
      "635      1032305        São Luís    MA\n",
      "2309     2306189  Belo Horizonte    MG\n",
      "5122      890973    Campo Grande    MS\n",
      "5219      646602          Cuiabá    MT\n",
      "169      1301354           Belém    PA\n",
      "1337      828564     João Pessoa    PB\n",
      "1596     1479517          Recife    PE\n",
      "882       862981        Teresina    PI\n",
      "4005     1766240        Curitiba    PR\n",
      "3242     6174749  Rio de Janeiro    RJ\n",
      "1163      748745           Natal    RN\n",
      "16        457072     Porto Velho    RO\n",
      "138       403025       Boa Vista    RR\n",
      "4931     1322309    Porto Alegre    RS\n",
      "4447      612362       Joinville    SC\n",
      "1754      601372         Aracaju    SE\n",
      "3829    11394443       São Paulo    SP\n",
      "443       301512          Palmas    TO\n"
     ]
    }
   ],
   "source": [
    "print(\"Most populous cities in each state:\")\n",
    "print(most_populous)"
   ]
  },
  {
   "cell_type": "code",
   "execution_count": 9,
   "metadata": {},
   "outputs": [
    {
     "name": "stdout",
     "output_type": "stream",
     "text": [
      "Least populous cities in each state:\n",
      "      population                       city state\n",
      "68          6717        Santa Rosa do Purus    AC\n",
      "1725        2715                    Pindoba    AL\n",
      "105         8767                     Japurá    AM\n",
      "307         3800                   Pracuúba    AP\n",
      "1918        3430                 Catolândia    BA\n",
      "955         4840                  Granjeiro    CE\n",
      "5569     2792551                   Brasília    DF\n",
      "3118        5076     Divino de São Lourenço    ES\n",
      "5339         924                 Anhanguera    GO\n",
      "575         4317                Nova Iorque    MA\n",
      "3026         829           Serra da Saudade    MG\n",
      "5137        3528                  Figueirão    MS\n",
      "5192        1005                 Araguainha    MT\n",
      "167         3990                    Bannach    PA\n",
      "1433        1696  São José do Brejo do Cruz    PB\n",
      "1525        2147        Fernando de Noronha    PE\n",
      "794         1313                Miguel Leão    PI\n",
      "4139        1323       Nova Aliança do Ivaí    PR\n",
      "3212        5415                     Macuco    RJ\n",
      "1240        1821                     Viçosa    RN\n",
      "42          2108       Pimenteiras do Oeste    RO\n",
      "149         7127                   São Luiz    RR\n",
      "4620        1135             André da Rocha    RS\n",
      "4545        1642            Santiago do Sul    SC\n",
      "1752        2169    Amparo do São Francisco    SE\n",
      "3348         907                       Borá    SP\n",
      "398         1164         Oliveira de Fátima    TO\n"
     ]
    }
   ],
   "source": [
    "print('Least populous cities in each state:')\n",
    "print(least_populous)"
   ]
  }
 ],
 "metadata": {
  "kernelspec": {
   "display_name": "base",
   "language": "python",
   "name": "python3"
  },
  "language_info": {
   "codemirror_mode": {
    "name": "ipython",
    "version": 3
   },
   "file_extension": ".py",
   "mimetype": "text/x-python",
   "name": "python",
   "nbconvert_exporter": "python",
   "pygments_lexer": "ipython3",
   "version": "3.10.9"
  },
  "orig_nbformat": 4
 },
 "nbformat": 4,
 "nbformat_minor": 2
}
